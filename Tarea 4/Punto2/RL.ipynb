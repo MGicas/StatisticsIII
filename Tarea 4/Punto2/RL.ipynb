{
 "cells": [
  {
   "cell_type": "code",
   "execution_count": 3,
   "id": "268ce4dc-c20c-4ba0-b565-58ba5c1bded9",
   "metadata": {},
   "outputs": [],
   "source": [
    "from sklearn.feature_extraction.text import TfidfVectorizer\n",
    "from sklearn.model_selection import train_test_split\n",
    "from sklearn.linear_model import LogisticRegression\n",
    "from sklearn.metrics import classification_report\n",
    "import numpy as np\n",
    "import os\n",
    "import pandas as pd\n",
    "from scipy import stats\n",
    "import matplotlib.pyplot as plt\n",
    "import plotly.graph_objects as go\n",
    "import tarfile\n",
    "import zipfile"
   ]
  },
  {
   "cell_type": "code",
   "execution_count": 6,
   "id": "2413d678-5140-47ca-b5ea-699b4e65a4d0",
   "metadata": {},
   "outputs": [
    {
     "name": "stdout",
     "output_type": "stream",
     "text": [
      "                      precision    recall  f1-score   support\n",
      "\n",
      "            Deportes       0.70      0.92      0.80        38\n",
      "           Educación       0.73      0.33      0.46        24\n",
      "     Entretenimiento       0.69      0.79      0.74        48\n",
      "       Gente y Blogs       0.50      0.12      0.20         8\n",
      "               Otros       1.00      0.50      0.67        10\n",
      "Película y Animación       0.54      0.62      0.58        32\n",
      "\n",
      "            accuracy                           0.67       160\n",
      "           macro avg       0.69      0.55      0.57       160\n",
      "        weighted avg       0.68      0.67      0.65       160\n",
      "\n"
     ]
    }
   ],
   "source": [
    "# Carga los datos de entrenamiento y prueba\n",
    "train_data = pd.read_csv('./data/train.csv')\n",
    "test_data = pd.read_csv('./data/test.csv')\n",
    "\n",
    "# Preprocesamiento y TF-IDF para entrenamiento\n",
    "tfidf_vectorizer = TfidfVectorizer(\n",
    "    max_features=1000,  # Limita el número de características\n",
    "    stop_words='english',  # Elimina stopwords en inglés\n",
    "    ngram_range=(1, 2),  # Utiliza bigramas además de unigramas\n",
    "    sublinear_tf=True,  # Aplica sublinear TF scaling\n",
    ")\n",
    "X_train_tfidf = tfidf_vectorizer.fit_transform(train_data['titulo'])\n",
    "y_train = train_data['categoria']\n",
    "\n",
    "# División de datos de entrenamiento y validación\n",
    "X_train, X_valid, y_train, y_valid = train_test_split(X_train_tfidf, y_train, test_size=0.2, random_state=42)\n",
    "\n",
    "# Entrenamiento del modelo de regresión logística\n",
    "lr = LogisticRegression(\n",
    "    C=1.0,  # Parámetro de regularización\n",
    "    penalty='l2',  # Regularización L2\n",
    "    solver='lbfgs',  # Solucionador\n",
    "    max_iter=1000,  # Número máximo de iteraciones\n",
    ")\n",
    "lr.fit(X_train, y_train)\n",
    "\n",
    "# Predicciones en datos de validación\n",
    "y_pred = lr.predict(X_valid)\n",
    "\n",
    "# Evaluación del modelo\n",
    "print(classification_report(y_valid, y_pred))\n",
    "\n",
    "# Preprocesamiento y TF-IDF para prueba\n",
    "X_test_tfidf = tfidf_vectorizer.transform(test_data['titulo'])\n",
    "\n",
    "# Predicciones en datos de prueba\n",
    "y_pred_test = lr.predict(X_test_tfidf)\n",
    "\n",
    "# Guarda los resultados en un DataFrame con la columna \"ID\"\n",
    "results = pd.DataFrame({'ID': test_data['index'], 'categoria': y_pred_test})\n",
    "\n",
    "# Guarda el DataFrame en un archivo CSV\n",
    "results.to_csv('prediccionesRL.csv', index=False)"
   ]
  },
  {
   "cell_type": "code",
   "execution_count": null,
   "id": "cb67467b-3fd2-46cb-845f-7c603c7a93ae",
   "metadata": {},
   "outputs": [],
   "source": []
  }
 ],
 "metadata": {
  "kernelspec": {
   "display_name": "Python 3 (ipykernel)",
   "language": "python",
   "name": "python3"
  },
  "language_info": {
   "codemirror_mode": {
    "name": "ipython",
    "version": 3
   },
   "file_extension": ".py",
   "mimetype": "text/x-python",
   "name": "python",
   "nbconvert_exporter": "python",
   "pygments_lexer": "ipython3",
   "version": "3.11.6"
  }
 },
 "nbformat": 4,
 "nbformat_minor": 5
}
