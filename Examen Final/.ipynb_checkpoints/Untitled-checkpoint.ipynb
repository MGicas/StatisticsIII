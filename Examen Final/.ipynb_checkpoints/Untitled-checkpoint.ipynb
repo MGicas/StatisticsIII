{
 "cells": [
  {
   "cell_type": "code",
   "execution_count": 6,
   "id": "c8075f8e-aa05-4cb1-9e24-843e76d6c259",
   "metadata": {},
   "outputs": [],
   "source": [
    "import random\n",
    "import pandas as pd\n",
    "import seaborn as sns\n",
    "import matplotlib.pyplot as plt\n",
    "import numpy as np\n",
    "import tensorflow as tf"
   ]
  },
  {
   "cell_type": "code",
   "execution_count": 74,
   "id": "c23dd3d6-ff58-48cd-8c27-d67b641ab517",
   "metadata": {},
   "outputs": [],
   "source": [
    "from sklearn.model_selection import train_test_split\n",
    "from sklearn.feature_extraction.text import CountVectorizer\n",
    "from sklearn.linear_model import LogisticRegression\n",
    "from sklearn.metrics import accuracy_score"
   ]
  },
  {
   "cell_type": "code",
   "execution_count": 12,
   "id": "5a00e636-2fbd-4781-8685-d52b5d2caaea",
   "metadata": {},
   "outputs": [],
   "source": [
    "sentimiento= pd.read_excel('./data/final.xlsx')"
   ]
  },
  {
   "cell_type": "code",
   "execution_count": 13,
   "id": "ca429d13-fcd7-4e3c-8aff-53f6d0080c78",
   "metadata": {},
   "outputs": [
    {
     "data": {
      "text/html": [
       "<div>\n",
       "<style scoped>\n",
       "    .dataframe tbody tr th:only-of-type {\n",
       "        vertical-align: middle;\n",
       "    }\n",
       "\n",
       "    .dataframe tbody tr th {\n",
       "        vertical-align: top;\n",
       "    }\n",
       "\n",
       "    .dataframe thead th {\n",
       "        text-align: right;\n",
       "    }\n",
       "</style>\n",
       "<table border=\"1\" class=\"dataframe\">\n",
       "  <thead>\n",
       "    <tr style=\"text-align: right;\">\n",
       "      <th></th>\n",
       "      <th>Texto</th>\n",
       "      <th>Unnamed: 1</th>\n",
       "      <th>Sentimiento</th>\n",
       "    </tr>\n",
       "  </thead>\n",
       "  <tbody>\n",
       "    <tr>\n",
       "      <th>0</th>\n",
       "      <td>Aprendi regresiones</td>\n",
       "      <td>Positivo</td>\n",
       "      <td>1</td>\n",
       "    </tr>\n",
       "    <tr>\n",
       "      <th>1</th>\n",
       "      <td>Mucha tarea</td>\n",
       "      <td>Negativo</td>\n",
       "      <td>0</td>\n",
       "    </tr>\n",
       "    <tr>\n",
       "      <th>2</th>\n",
       "      <td>Aprendi modelos de texto</td>\n",
       "      <td>Positivo</td>\n",
       "      <td>1</td>\n",
       "    </tr>\n",
       "    <tr>\n",
       "      <th>3</th>\n",
       "      <td>Tareas muy largas</td>\n",
       "      <td>Negativo</td>\n",
       "      <td>0</td>\n",
       "    </tr>\n",
       "    <tr>\n",
       "      <th>4</th>\n",
       "      <td>Aprendi a utilizar imágenes</td>\n",
       "      <td>Positivo</td>\n",
       "      <td>1</td>\n",
       "    </tr>\n",
       "    <tr>\n",
       "      <th>5</th>\n",
       "      <td>El profe se demora en entregar las notas</td>\n",
       "      <td>Negativo</td>\n",
       "      <td>0</td>\n",
       "    </tr>\n",
       "    <tr>\n",
       "      <th>6</th>\n",
       "      <td>Me gusto competir por el mejor modelo</td>\n",
       "      <td>Positivo</td>\n",
       "      <td>1</td>\n",
       "    </tr>\n",
       "    <tr>\n",
       "      <th>7</th>\n",
       "      <td>Los examenes son largos</td>\n",
       "      <td>Negativo</td>\n",
       "      <td>0</td>\n",
       "    </tr>\n",
       "    <tr>\n",
       "      <th>8</th>\n",
       "      <td>Aprendi gradientes</td>\n",
       "      <td>Positivo</td>\n",
       "      <td>1</td>\n",
       "    </tr>\n",
       "    <tr>\n",
       "      <th>9</th>\n",
       "      <td>Aprendi NLP</td>\n",
       "      <td>Positivo</td>\n",
       "      <td>1</td>\n",
       "    </tr>\n",
       "  </tbody>\n",
       "</table>\n",
       "</div>"
      ],
      "text/plain": [
       "                                      Texto Unnamed: 1  Sentimiento\n",
       "0                       Aprendi regresiones   Positivo            1\n",
       "1                               Mucha tarea   Negativo            0\n",
       "2                  Aprendi modelos de texto   Positivo            1\n",
       "3                         Tareas muy largas   Negativo            0\n",
       "4               Aprendi a utilizar imágenes   Positivo            1\n",
       "5  El profe se demora en entregar las notas   Negativo            0\n",
       "6     Me gusto competir por el mejor modelo   Positivo            1\n",
       "7                   Los examenes son largos   Negativo            0\n",
       "8                        Aprendi gradientes   Positivo            1\n",
       "9                               Aprendi NLP   Positivo            1"
      ]
     },
     "execution_count": 13,
     "metadata": {},
     "output_type": "execute_result"
    }
   ],
   "source": [
    "sentimiento.head(10)"
   ]
  },
  {
   "cell_type": "code",
   "execution_count": 24,
   "id": "67a2efa3-d855-4bca-9155-fb722b730081",
   "metadata": {},
   "outputs": [],
   "source": [
    "masFrecuentes = df['Texto'].str.split(expand=True).stack().value_counts()[:10]"
   ]
  },
  {
   "cell_type": "markdown",
   "id": "03e20c05-649e-4d8e-af26-5b2c304714f9",
   "metadata": {},
   "source": [
    "# Punto 1"
   ]
  },
  {
   "cell_type": "markdown",
   "id": "aab0e2b8-4899-406e-8e7e-9afdd66badfd",
   "metadata": {},
   "source": [
    "Exploración, crear un gráfico de barras con las 10 palabras más frecuentes. Calcular la correlación con el sentimiento. Si el sentimiento positivo es 1 y el negativo es 0 (10 puntos) "
   ]
  },
  {
   "cell_type": "code",
   "execution_count": 25,
   "id": "b589e5fe-428c-42f4-a649-253795cc3d9a",
   "metadata": {},
   "outputs": [
    {
     "data": {
      "image/png": "[encoded data removed]",
      "text/plain": [
       "<Figure size 640x480 with 1 Axes>"
      ]
     },
     "metadata": {},
     "output_type": "display_data"
    }
   ],
   "source": [
    "masFrecuentes.plot(kind='bar')\n",
    "plt.show()"
   ]
  },
  {
   "cell_type": "code",
   "execution_count": 43,
   "id": "f79f7091-3a4e-40c3-a807-0f01086faf7f",
   "metadata": {},
   "outputs": [],
   "source": [
    "df['valor_asignado'] = df['Texto'].apply(lambda x: sum(x in masFrecuentes for x in x.split()))"
   ]
  },
  {
   "cell_type": "code",
   "execution_count": 44,
   "id": "1b250f07-748a-4140-a3cc-ed58b5ce5d2a",
   "metadata": {},
   "outputs": [],
   "source": [
    "#valores_asignados = {palabra: valor + 1 for valor, palabra in enumerate(masFrecuentes)}\n",
    "#df['valor_asignado'] = df['Texto'].apply(lambda x: sum(valores_asignados[palabra] for palabra in x.split() if palabra in masFrecuentes))"
   ]
  },
  {
   "cell_type": "code",
   "execution_count": 35,
   "id": "f8a2ce31-5e98-475b-b4bd-e7e607f5f429",
   "metadata": {},
   "outputs": [],
   "source": [
    "correlacion = df[['valor_asignado', 'Sentimiento']].corr().iloc[0, 1]"
   ]
  },
  {
   "cell_type": "code",
   "execution_count": 36,
   "id": "c11aafb3-bda5-4451-9ad4-046dbb4aa8eb",
   "metadata": {},
   "outputs": [
    {
     "name": "stdout",
     "output_type": "stream",
     "text": [
      "10 palabras más frecuentes: Aprendi    10\n",
      "son         4\n",
      "las         3\n",
      "muy         3\n",
      "es          3\n",
      "Me          2\n",
      "de          2\n",
      "un          2\n",
      "me          2\n",
      "y           2\n",
      "Name: count, dtype: int64\n"
     ]
    }
   ],
   "source": [
    "print(f'10 palabras más frecuentes: {masFrecuentes}')"
   ]
  },
  {
   "cell_type": "code",
   "execution_count": 45,
   "id": "42dbad62-d217-49d5-bd50-5bcccb4e4cb6",
   "metadata": {},
   "outputs": [
    {
     "name": "stdout",
     "output_type": "stream",
     "text": [
      "Valor asignado a las palabras más frecuentes:\n",
      "                         Texto  valorAsignado\n",
      "0          Aprendi regresiones              1\n",
      "1                  Mucha tarea              0\n",
      "2     Aprendi modelos de texto              2\n",
      "3            Tareas muy largas              1\n",
      "4  Aprendi a utilizar imágenes              1\n"
     ]
    }
   ],
   "source": [
    "print(f'Valor asignado a las palabras más frecuentes:\\n{df[[\"Texto\"] + [\"valorAsignado\"]].head()}')"
   ]
  },
  {
   "cell_type": "code",
   "execution_count": 46,
   "id": "163527a9-0d8b-4d70-bebc-21daf38c5fd8",
   "metadata": {},
   "outputs": [
    {
     "name": "stdout",
     "output_type": "stream",
     "text": [
      "Correlación con el sentimiento: 0.2033810364680433\n"
     ]
    }
   ],
   "source": [
    "print(f'Correlación con el sentimiento: {correlacion}')"
   ]
  },
  {
   "cell_type": "markdown",
   "id": "3da96545-fb3c-4dcf-819d-593010d606da",
   "metadata": {},
   "source": [
    "# Punto 2"
   ]
  },
  {
   "cell_type": "markdown",
   "id": "5608d7ca-bb92-4e60-898b-21c3b3ebe23d",
   "metadata": {},
   "source": [
    " Crear la matriz tf-idf. Ordene las columnas por las palabras mas comunes"
   ]
  },
  {
   "cell_type": "code",
   "execution_count": 66,
   "id": "44e1a3f9-c640-4923-830d-cfe81b0b0a74",
   "metadata": {},
   "outputs": [],
   "source": [
    "def calcular_tf(sentimiento):\n",
    "    tf = {}\n",
    "    for palabra in sentimiento.split():\n",
    "        if palabra in tf:\n",
    "            tf[palabra] += 1\n",
    "        else:\n",
    "            tf[palabra] = 1\n",
    "    for palabra in tf:\n",
    "        tf[palabra] = tf[palabra] / len(sentimiento.split())\n",
    "    return tf\n"
   ]
  },
  {
   "cell_type": "code",
   "execution_count": 70,
   "id": "b5eb017b-21e4-4c33-a475-df68714bd97a",
   "metadata": {},
   "outputs": [],
   "source": [
    "def calcular_idf(sentimiento):\n",
    "    idf = {}\n",
    "    n_sentimientos = len(sentimiento)\n",
    "    for sentimientos in sentimiento:\n",
    "        for palabra in sentimientos.split():\n",
    "            if palabra in idf:\n",
    "                continue\n",
    "            apariciones = sum([1 for d in sentimiento if palabra in d.split()])\n",
    "            idf[palabra] = np.log(n_sentimientos / apariciones)\n",
    "        return idf"
   ]
  },
  {
   "cell_type": "code",
   "execution_count": 71,
   "id": "547e585d-728e-43da-8ec7-6ccfdb265c35",
   "metadata": {},
   "outputs": [],
   "source": [
    "def calcular_tf_idf(sentimiento):\n",
    "    tf_idf = []\n",
    "    idf = calcular_idf(sentimiento)\n",
    "    for sentimientos in sentimiento:\n",
    "        tf = calcular_tf(sentimientos)\n",
    "        tf_idf.append([tf[palabra] * idf[palabra] if palabra in tf else 0 for palabra in idf])\n",
    "    return np.array(tf_idf)"
   ]
  },
  {
   "cell_type": "code",
   "execution_count": 72,
   "id": "8ea5f4eb-e149-4000-86e4-b212dadc8b82",
   "metadata": {},
   "outputs": [
    {
     "name": "stdout",
     "output_type": "stream",
     "text": [
      "[[0.34657359 1.49786614]\n",
      " [0.         0.        ]\n",
      " [0.1732868  0.        ]\n",
      " [0.         0.        ]\n",
      " [0.1732868  0.        ]\n",
      " [0.         0.        ]\n",
      " [0.         0.        ]\n",
      " [0.         0.        ]\n",
      " [0.34657359 0.        ]\n",
      " [0.34657359 0.        ]\n",
      " [0.23104906 0.        ]\n",
      " [0.         0.        ]\n",
      " [0.         0.        ]\n",
      " [0.34657359 0.        ]\n",
      " [0.1732868  0.        ]\n",
      " [0.13862944 0.        ]\n",
      " [0.         0.        ]\n",
      " [0.09902103 0.        ]\n",
      " [0.         0.        ]\n",
      " [0.         0.        ]]\n"
     ]
    }
   ],
   "source": [
    "tf_idf = calcular_tf_idf(df['Texto'])\n",
    "print(tf_idf)"
   ]
  },
  {
   "cell_type": "markdown",
   "id": "04fa8d99-855a-40b2-94f4-07f5e75fc2e1",
   "metadata": {},
   "source": [
    "# Punto 3"
   ]
  },
  {
   "cell_type": "code",
   "execution_count": 121,
   "id": "bd74a645-406d-47f2-815e-4d41fa470cca",
   "metadata": {},
   "outputs": [],
   "source": [
    "tf = df['Texto'].apply(lambda x: pd.Series(x).value_counts())\n",
    "\n",
    "idf = np.log(len(df) / tf.count())\n",
    "tf_idf = tf * idf\n",
    "tf_idf = tf_idf.reindex(tf.sum().sort_values(ascending=False).index, axis=1)\n",
    "tf_idf['b0'] = 1\n",
    "tf_idf = tf_idf.fillna(0)"
   ]
  },
  {
   "cell_type": "code",
   "execution_count": 127,
   "id": "adcc1790-dedc-489d-924d-c7b901615a18",
   "metadata": {},
   "outputs": [],
   "source": [
    "b = np.zeros(tf_idf.shape[1])\n",
    "\n",
    "learning_rate = 0.5\n",
    "batch_size = 3\n",
    "epochs = 15"
   ]
  },
  {
   "cell_type": "code",
   "execution_count": 128,
   "id": "7faa2752-273d-4283-b87e-4f46321734ec",
   "metadata": {},
   "outputs": [],
   "source": [
    "def sigmoid(x):\n",
    "    return 1 / (1 + np.exp(-x))"
   ]
  },
  {
   "cell_type": "code",
   "execution_count": 136,
   "id": "737ea826-2fe3-4466-bfd8-cd1b855940a4",
   "metadata": {
    "scrolled": true
   },
   "outputs": [
    {
     "ename": "SyntaxError",
     "evalue": "invalid non-printable character U+00A0 (2798102017.py, line 13)",
     "output_type": "error",
     "traceback": [
      "\u001b[1;36m  Cell \u001b[1;32mIn[136], line 13\u001b[1;36m\u001b[0m\n\u001b[1;33m    print(f'Iteración {i+1}: {b.numpy()[:4, 0]}')\u001b[0m\n\u001b[1;37m              ^\u001b[0m\n\u001b[1;31mSyntaxError\u001b[0m\u001b[1;31m:\u001b[0m invalid non-printable character U+00A0\n"
     ]
    }
   ],
   "source": [
    "for i in range(epochs):\n",
    "    for j in range(0, len(df), batch_size):\n",
    "        X = tf.constant(tf_idf.iloc[j:j+batch_size].values, dtype=tf.float64)\n",
    "        \n",
    "        with tf.GradientTape() as tape:\n",
    "            g = tf.matmul(X, b)\n",
    "            y_pred = sigmoid(g)\n",
    "            error = -tf.reduce_sum(y * tf.math.log(y_pred) + (1 - y) * tf.math.log(1 - y_pred))\n",
    "        \n",
    "        gradient = tape.gradient(error, b)\n",
    "        b.assign_sub(learning_rate * gradient)\n",
    "\n",
    "    print(f'Iteración {i+1}: {b.numpy()[:4, 0]}')"
   ]
  },
  {
   "cell_type": "code",
   "execution_count": null,
   "id": "2d2d7b5a-add3-4ef6-bc9f-a7bd16c5df30",
   "metadata": {},
   "outputs": [],
   "source": []
  },
  {
   "cell_type": "markdown",
   "id": "6663543e-6826-42a6-8c33-13271e46aa2d",
   "metadata": {},
   "source": [
    "# Punto 4"
   ]
  },
  {
   "cell_type": "code",
   "execution_count": null,
   "id": "509be39c-07e9-49b2-bbc7-7ed196536198",
   "metadata": {},
   "outputs": [],
   "source": []
  },
  {
   "cell_type": "markdown",
   "id": "67063c68-3a6e-42b3-a481-105fdb265582",
   "metadata": {},
   "source": [
    "# Punto 5"
   ]
  },
  {
   "cell_type": "markdown",
   "id": "d6c2eeb0-01bb-400c-8ce0-31ea260b6706",
   "metadata": {},
   "source": [
    "Cree el modelo en python utilizando las librerías, que palabras son las mas importantes. Adicionar tabla de coeficientes y comentar resultados"
   ]
  },
  {
   "cell_type": "code",
   "execution_count": 116,
   "id": "863e0388-8e00-4e2b-8d13-1533f6748056",
   "metadata": {},
   "outputs": [],
   "source": [
    "X_train, X_test, y_train, y_test = train_test_split(df['Texto'], df['Sentimiento'], test_size=0.7, random_state=53)"
   ]
  },
  {
   "cell_type": "code",
   "execution_count": 117,
   "id": "83a322fc-6011-4ad5-a07b-227d47ba2a09",
   "metadata": {},
   "outputs": [],
   "source": [
    "vectorizer = CountVectorizer()\n",
    "X_train_vec = vectorizer.fit_transform(X_train)\n",
    "X_test_vec = vectorizer.transform(X_test)"
   ]
  },
  {
   "cell_type": "code",
   "execution_count": 118,
   "id": "670e0279-b43f-4de6-94a7-928eed4db6c2",
   "metadata": {},
   "outputs": [
    {
     "name": "stdout",
     "output_type": "stream",
     "text": [
      "Precisión del modelo: 0.7142857142857143\n"
     ]
    }
   ],
   "source": [
    "model = LogisticRegression()\n",
    "model.fit(X_train_vec, y_train)\n",
    "\n",
    "accuracy = accuracy_score(y_test, model.predict(X_test_vec))\n",
    "print(f'Precisión del modelo: {accuracy}')"
   ]
  },
  {
   "cell_type": "code",
   "execution_count": 85,
   "id": "86f2a2ca-750f-4800-8797-089ecbc16f6e",
   "metadata": {},
   "outputs": [
    {
     "name": "stdout",
     "output_type": "stream",
     "text": [
      "        Palabra  Coeficiente\n",
      "0       aprendi     0.363141\n",
      "1       cluster     0.164982\n",
      "2        confio    -0.158308\n",
      "3            de     0.039851\n",
      "4        demora    -0.204818\n",
      "5     distraigo    -0.158308\n",
      "6            el    -0.204818\n",
      "7            en    -0.363126\n",
      "8      entregar    -0.204818\n",
      "9            es     0.164982\n",
      "10  grabaciones    -0.158308\n",
      "11           la    -0.158308\n",
      "12          las    -0.363126\n",
      "13           me    -0.316615\n",
      "14      modelos     0.198158\n",
      "15        notas    -0.204818\n",
      "16        parte    -0.158308\n",
      "17        profe    -0.204818\n",
      "18          que     0.164982\n",
      "19           se    -0.204818\n",
      "20      teorica    -0.158308\n",
      "21        texto     0.198158\n",
      "22           un     0.164982\n"
     ]
    }
   ],
   "source": [
    "coeficients = model.coef_[0]\n",
    "coeficientes_df = pd.DataFrame({'Palabra': vectorizer.get_feature_names_out(), 'Coeficiente': coeficients})\n",
    "print(coeficientes_df)"
   ]
  },
  {
   "cell_type": "markdown",
   "id": "791570c6-f9a2-4c19-b0c4-c1c7d04e64b5",
   "metadata": {},
   "source": [
    "En la tabla de coeficientes se presentan las palabras más importantes y el calculo de su coeficiente"
   ]
  },
  {
   "cell_type": "markdown",
   "id": "fe092369-ff4c-414f-afe1-db0f25183762",
   "metadata": {},
   "source": [
    "Aquellas palabras con coeficientes en valor absoluto, más grandes tienen una influencia más fuerte en la predicción del modelo. Estas palabras son de suma importancia para determinar la clase predicha."
   ]
  },
  {
   "cell_type": "markdown",
   "id": "76ded92f-7ef7-4dde-b08f-da9f1c854969",
   "metadata": {},
   "source": [
    "El modelo presenta un accuracy del 71%, lo cuál en términos general no es muy bueno pero tampoco es malo"
   ]
  },
  {
   "cell_type": "code",
   "execution_count": null,
   "id": "a50cf4e6-9766-403e-b335-a6269ab062f3",
   "metadata": {},
   "outputs": [],
   "source": []
  }
 ],
 "metadata": {
  "kernelspec": {
   "display_name": "Python 3 (ipykernel)",
   "language": "python",
   "name": "python3"
  },
  "language_info": {
   "codemirror_mode": {
    "name": "ipython",
    "version": 3
   },
   "file_extension": ".py",
   "mimetype": "text/x-python",
   "name": "python",
   "nbconvert_exporter": "python",
   "pygments_lexer": "ipython3",
   "version": "3.11.6"
  }
 },
 "nbformat": 4,
 "nbformat_minor": 5
}
