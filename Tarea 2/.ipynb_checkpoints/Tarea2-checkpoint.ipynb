{
 "cells": [
  {
   "cell_type": "markdown",
   "id": "cb413f82-0bf0-43b6-81aa-81f6eceb3745",
   "metadata": {},
   "source": [
    "# Ejercicio 1"
   ]
  },
  {
   "cell_type": "code",
   "execution_count": null,
   "id": "f84370a6-439a-47ee-8e4e-16e1a8a21579",
   "metadata": {},
   "outputs": [],
   "source": [
    "import numpy as np\n",
    "import os\n",
    "import pandas as pd\n",
    "import matplotlib.pyplot as plt\n",
    "import tarfile\n",
    "import zipfile\n",
    "from scipy.io import loadmat\n",
    "from urllib.request import urlretrieve\n",
    "from os.path import isfile, isdir\n",
    "import seaborn as sns; sns.set()\n",
    "import plotly.express as px\n",
    "from datetime import date\n",
    "from datetime import datetime\n",
    "%matplotlib inline"
   ]
  },
  {
   "cell_type": "code",
   "execution_count": null,
   "id": "8aaf6194-f981-4d11-b8d4-5cb4d521c79b",
   "metadata": {},
   "outputs": [],
   "source": [
    "def download_files():\n",
    "    \"\"\"\n",
    "    Este metodo descarga los archivos de imagenes sino existen\n",
    "    \"\"\"\n",
    "    path_tar = os.path.join(\"data\",'faces.zip')\n",
    "    if not isfile(path_tar):\n",
    "        urlretrieve(\n",
    "            'http://courses.media.mit.edu/2002fall/mas622j/proj/faces/rawdata.zip',\n",
    "            path_tar)\n",
    "    dest_path =  \"data/faces\"\n",
    "    with zipfile.ZipFile(path_tar) as tar:\n",
    "        tar.extractall(dest_path)\n",
    "        tar.close()\n",
    "download_files()"
   ]
  },
  {
   "cell_type": "code",
   "execution_count": null,
   "id": "867d73bb-5d65-4304-99d3-bc3c068537de",
   "metadata": {},
   "outputs": [],
   "source": [
    "from scipy.io import loadmat\n",
    "import glob\n",
    "import random\n",
    "import matplotlib.image as img\n",
    "from PIL import Image\n",
    "\n",
    "d_name = 'data/faces/rawdata'\n",
    "X = []\n",
    "for nfile in  os.listdir(d_name):\n",
    "    bytes_read = open(os.path.join(d_name,nfile), \"rb\").read()\n",
    "    img = Image.frombytes('L', (128,128), bytes_read)\n",
    "    X.append(np.array(img).flatten())\n",
    "\n",
    "X = np.array(X)"
   ]
  },
  {
   "cell_type": "code",
   "execution_count": null,
   "id": "be560eb8-987e-4b7d-bbe5-0b3262982daa",
   "metadata": {},
   "outputs": [],
   "source": [
    "def plot_1_images(data, label=\"Image 1\", ax=None):\n",
    "    fn_shape = lambda X: X.reshape(128,128)\n",
    "    fig = None\n",
    "    if ax is None:\n",
    "        fig, ax = plt.subplots(1,1, constrained_layout=True)\n",
    "    ax.imshow(fn_shape(data))\n",
    "    ax.set_title(label=label)\n",
    "    return fig,ax"
   ]
  },
  {
   "cell_type": "code",
   "execution_count": null,
   "id": "90b8144c-139c-4f77-bb31-3485f766d41a",
   "metadata": {},
   "outputs": [],
   "source": [
    "def plot_5_images(data,ix_1, ix_2 , ix_3, ix_4, ix_5):\n",
    "    fn_shape = lambda X: X.reshape(128,128)\n",
    "    fig, ax = plt.subplots(1,5, constrained_layout=True)\n",
    "    ax[0].imshow(fn_shape(data[ix_1]))\n",
    "    ax[0].set_title(label=\"Image %s\"% ix_1)\n",
    "    ax[1].imshow(fn_shape(data[ix_2]))\n",
    "    ax[1].set_title(label=\"Image %s\"% ix_2)\n",
    "    ax[2].imshow(fn_shape(data[ix_3]))\n",
    "    ax[2].set_title(label=\"Image %s \"% ix_3)\n",
    "    ax[3].imshow(fn_shape(data[ix_4]))\n",
    "    ax[3].set_title(label=\"Image %s \"% ix_4)\n",
    "    ax[4].imshow(fn_shape(data[ix_5]))\n",
    "    ax[4].set_title(label=\"Image %s \"% ix_5)\n",
    "    plt.show()\n",
    "plot_5_images(X,1, 2, 3, 4, 5)"
   ]
  },
  {
   "cell_type": "code",
   "execution_count": null,
   "id": "a7d1c173-bd4d-493e-b1e4-c8540868cc9c",
   "metadata": {},
   "outputs": [],
   "source": [
    "def plot_n_images(data,n=1):\n",
    "    fn_shape = lambda x: x.reshape(128,128)\n",
    "    fig, ax = plt.subplots(1,n, constrained_layout=True)\n",
    "    if n == 1:\n",
    "        ax.imshow(fn_shape(data))\n",
    "        ax.set_title(label=\"Image %s\"% str(n))\n",
    "    else:\n",
    "        for i in range(n):\n",
    "            ax[i].imshow(fn_shape(data[i]))\n",
    "            ax[i].set_title(label=\"Image %s\"% str(i+1))\n",
    "    plt.show()"
   ]
  },
  {
   "cell_type": "code",
   "execution_count": null,
   "id": "0956fd29-e749-473f-ab16-904862ff2853",
   "metadata": {},
   "outputs": [],
   "source": [
    "X_mean = X.mean(axis=0)\n",
    "X_center = X - X_mean"
   ]
  },
  {
   "cell_type": "code",
   "execution_count": null,
   "id": "a8a4e558-bf19-454d-8f68-bb630d935304",
   "metadata": {},
   "outputs": [],
   "source": [
    "plot_1_images(X_mean)"
   ]
  },
  {
   "cell_type": "markdown",
   "id": "560190c4-39e0-4f10-9515-5a61d89dcdce",
   "metadata": {},
   "source": [
    "### 2. PCA"
   ]
  },
  {
   "cell_type": "markdown",
   "id": "6395cb93-e99f-471e-a31e-77b31eabe4ee",
   "metadata": {},
   "source": [
    "2.1 Centrar"
   ]
  },
  {
   "cell_type": "code",
   "execution_count": null,
   "id": "7de2a607-1d82-49b0-b9ea-a69dc7b72a10",
   "metadata": {},
   "outputs": [],
   "source": [
    "x_center = X - X_mean"
   ]
  },
  {
   "cell_type": "markdown",
   "id": "fb9c7605-5369-41ae-8b3f-40d30a5b1224",
   "metadata": {},
   "source": [
    "2.2 EigenFaces y EigenValues"
   ]
  },
  {
   "cell_type": "code",
   "execution_count": null,
   "id": "531b3668-4d3c-4617-9a87-f2f2e7b9e7b4",
   "metadata": {},
   "outputs": [],
   "source": [
    "from sklearn.decomposition import PCA\n",
    "pca = PCA(n_components=700)\n",
    "X_reduced = pca.fit_transform(x_center)"
   ]
  },
  {
   "cell_type": "code",
   "execution_count": null,
   "id": "2efa9249-871d-4d61-b165-14f8ed087f1a",
   "metadata": {},
   "outputs": [],
   "source": [
    "eigen_values = pca.explained_variance_\n",
    "eigen_faces = pca.components_\n",
    "cumulative_variance = np.cumsum(pca.explained_variance_ratio_)\n",
    "cumulative_variance"
   ]
  },
  {
   "cell_type": "code",
   "execution_count": null,
   "id": "ce78a7ff-fd5a-4555-98e2-873e15b21242",
   "metadata": {},
   "outputs": [],
   "source": [
    "plt.plot(range(0,700), eigen_values/eigen_values[0])"
   ]
  },
  {
   "cell_type": "markdown",
   "id": "67d0331f-bb6e-4a03-b9ed-6319d2a9e31a",
   "metadata": {},
   "source": [
    "2.2.1 COMPONENTES PARA MANTENER EL 90% DE LAS CARACTERÍSTICAS"
   ]
  },
  {
   "cell_type": "code",
   "execution_count": null,
   "id": "50e33c38-1954-40a8-a479-9feb96ca5f71",
   "metadata": {},
   "outputs": [],
   "source": [
    "components_90 = np.argmax(cumulative_variance >= 0.9) + 1\n",
    "components_90"
   ]
  },
  {
   "cell_type": "markdown",
   "id": "ab34b0e0-aa1a-4331-af8e-04747153b5fa",
   "metadata": {},
   "source": [
    "Se necesitan 75 componentes para mantener el 90% de las características"
   ]
  },
  {
   "cell_type": "markdown",
   "id": "50c80f2b-6437-4a6c-9e2f-1b283b535f26",
   "metadata": {},
   "source": [
    "DATOS RECONSTRUIDOS"
   ]
  },
  {
   "cell_type": "code",
   "execution_count": null,
   "id": "3d4d0c79-eb9f-4d2e-a812-ba7c6cd24b4b",
   "metadata": {},
   "outputs": [],
   "source": [
    "X_reduced = pca.fit_transform(x_center)"
   ]
  },
  {
   "cell_type": "markdown",
   "id": "65423081-c5d9-43ca-89c1-090f66dafeb9",
   "metadata": {},
   "source": [
    "## CARA ORIGINAL"
   ]
  },
  {
   "cell_type": "code",
   "execution_count": null,
   "id": "0eac413a-0fab-43ee-b174-07e3887b4889",
   "metadata": {},
   "outputs": [],
   "source": [
    "original_faces = [X[0], X[1], X[2], X[3], X[4]]\n",
    "plot_5_images(original_faces, 0, 1, 2, 3, 4)"
   ]
  },
  {
   "cell_type": "markdown",
   "id": "4755c1d1-d494-43e2-adef-94ef6967591a",
   "metadata": {},
   "source": [
    "## MeanFace + \"1\"  comp"
   ]
  },
  {
   "cell_type": "code",
   "execution_count": null,
   "id": "08f92aa0-ca46-44d1-bd15-be6ec5fbc1ed",
   "metadata": {},
   "outputs": [],
   "source": [
    "comp1_faces= [\n",
    "    np.dot(X_reduced[0].reshape(1,-1)[:,:1], eigen_faces[:1,:]) + X_mean,\n",
    "    np.dot(X_reduced[1].reshape(1,-1)[:,:1], eigen_faces[:1,:]) + X_mean,\n",
    "    np.dot(X_reduced[2].reshape(1,-1)[:,:1], eigen_faces[:1,:]) + X_mean,\n",
    "    np.dot(X_reduced[3].reshape(1,-1)[:,:1], eigen_faces[:1,:]) + X_mean,\n",
    "    np.dot(X_reduced[4].reshape(1,-1)[:,:1], eigen_faces[:1,:]) + X_mean]\n",
    "plot_5_images(comp1_faces, 0, 1, 2, 3, 4)"
   ]
  },
  {
   "cell_type": "markdown",
   "id": "abbd074c-1edf-4e0d-bf40-c8d4deb07125",
   "metadata": {},
   "source": [
    "## MeanFace + \"5\" comp"
   ]
  },
  {
   "cell_type": "code",
   "execution_count": null,
   "id": "4fde9a68-24a7-440b-a97f-7a4d25b359be",
   "metadata": {},
   "outputs": [],
   "source": [
    "comp5_faces= [\n",
    "    np.dot(X_reduced[0].reshape(1,-1)[:,:5], eigen_faces[:5,:]) + X_mean,\n",
    "    np.dot(X_reduced[1].reshape(1,-1)[:,:5], eigen_faces[:5,:]) + X_mean,\n",
    "    np.dot(X_reduced[2].reshape(1,-1)[:,:5], eigen_faces[:5,:]) + X_mean,\n",
    "    np.dot(X_reduced[3].reshape(1,-1)[:,:5], eigen_faces[:5,:]) + X_mean,\n",
    "    np.dot(X_reduced[4].reshape(1,-1)[:,:5], eigen_faces[:5,:]) + X_mean]\n",
    "plot_5_images(comp5_faces, 0, 1, 2, 3, 4)"
   ]
  },
  {
   "cell_type": "markdown",
   "id": "8a914b55-faa8-4b46-8e9c-a75ba5f5027c",
   "metadata": {},
   "source": [
    "## MeanFace + \"10\" Comp"
   ]
  },
  {
   "cell_type": "code",
   "execution_count": null,
   "id": "d22c332a-bcee-47cd-9923-f134ecb52114",
   "metadata": {},
   "outputs": [],
   "source": [
    "comp10_faces= [\n",
    "    np.dot(X_reduced[0].reshape(1,-1)[:,:10], eigen_faces[:10,:]) + X_mean,\n",
    "    np.dot(X_reduced[1].reshape(1,-1)[:,:10], eigen_faces[:10,:]) + X_mean,\n",
    "    np.dot(X_reduced[2].reshape(1,-1)[:,:10], eigen_faces[:10,:]) + X_mean,\n",
    "    np.dot(X_reduced[3].reshape(1,-1)[:,:10], eigen_faces[:10,:]) + X_mean,\n",
    "    np.dot(X_reduced[4].reshape(1,-1)[:,:10], eigen_faces[:10,:]) + X_mean]\n",
    "plot_5_images(comp10_faces, 0, 1, 2, 3, 4)"
   ]
  },
  {
   "cell_type": "markdown",
   "id": "95e77444-78ee-4637-bfdb-5b9a335274fc",
   "metadata": {},
   "source": [
    "## MeanFace + \"90%\" comp"
   ]
  },
  {
   "cell_type": "code",
   "execution_count": null,
   "id": "e7de1637-9355-4ccc-a00e-6b52b5d8de6e",
   "metadata": {},
   "outputs": [],
   "source": [
    "comp90Percent_faces= [\n",
    "    np.dot(X_reduced[0].reshape(1,-1)[:,:components_90],eigen_faces[:components_90,:]) + X_mean,\n",
    "    np.dot(X_reduced[1].reshape(1,-1)[:,:components_90],eigen_faces[:components_90,:]) + X_mean,\n",
    "    np.dot(X_reduced[2].reshape(1,-1)[:,:components_90],eigen_faces[:components_90,:]) + X_mean,\n",
    "    np.dot(X_reduced[3].reshape(1,-1)[:,:components_90],eigen_faces[:components_90,:]) + X_mean,\n",
    "    np.dot(X_reduced[4].reshape(1,-1)[:,:components_90],eigen_faces[:components_90,:]) + X_mean]\n",
    "plot_5_images(comp90Percent_faces, 0, 1, 2, 3, 4)"
   ]
  },
  {
   "cell_type": "markdown",
   "id": "892904b4-992e-4fa0-8591-703b522d6b8d",
   "metadata": {},
   "source": [
    "## MeanFace + \"99%\" Comp"
   ]
  },
  {
   "cell_type": "code",
   "execution_count": null,
   "id": "75cc3b79-aa46-41b8-9b82-196c9c4aae86",
   "metadata": {},
   "outputs": [],
   "source": [
    "components_99 = np.argmax(cumulative_variance >= 0.99) + 1\n",
    "comp99Percent_faces= [\n",
    "    np.dot(X_reduced[0].reshape(1,-1)[:,:components_99],eigen_faces[:components_99,:]) + X_mean,\n",
    "    np.dot(X_reduced[1].reshape(1,-1)[:,:components_99],eigen_faces[:components_99,:]) + X_mean,\n",
    "    np.dot(X_reduced[2].reshape(1,-1)[:,:components_99],eigen_faces[:components_99,:]) + X_mean,\n",
    "    np.dot(X_reduced[3].reshape(1,-1)[:,:components_99],eigen_faces[:components_99,:]) + X_mean,\n",
    "    np.dot(X_reduced[4].reshape(1,-1)[:,:components_99],eigen_faces[:components_99,:]) + X_mean]\n",
    "plot_5_images(comp99Percent_faces, 0, 1, 2, 3, 4)"
   ]
  },
  {
   "cell_type": "code",
   "execution_count": null,
   "id": "97ea29d5-335f-4048-aed4-0d2b4d236075",
   "metadata": {},
   "outputs": [],
   "source": [
    "components_99"
   ]
  },
  {
   "cell_type": "markdown",
   "id": "e2c6104d-6996-47fa-8731-fbc4684a8c5d",
   "metadata": {},
   "source": [
    "Se puede concluir que entre más componentes se usen, mejor calidad va a tener la imagen "
   ]
  },
  {
   "cell_type": "markdown",
   "id": "ae46906d-53c6-408a-b208-456c056c9010",
   "metadata": {},
   "source": [
    "# Ejercicio \"2\""
   ]
  },
  {
   "cell_type": "code",
   "execution_count": null,
   "id": "835e7abf-f97f-4081-b6d9-eaa9d612047f",
   "metadata": {},
   "outputs": [],
   "source": [
    "pca = PCA(n_components = 5)\n",
    "X_reduce = pca.fit_transform(x_center)\n",
    "eigen_faces = pca.components"
   ]
  },
  {
   "cell_type": "code",
   "execution_count": null,
   "id": "42469d2a-7e22-4fec-90c0-3e219689b88f",
   "metadata": {},
   "outputs": [],
   "source": [
    "class Kmeans:\n",
    "    \n",
    "    def __init__(self, k):\n",
    "        self.k = k\n",
    "        self.miu = None\n",
    "        self.his_miu = []\n",
    "        \n",
    "    def calculate_labels(self, X):\n",
    "        dis = np.sum(np.abs(X[:, np.newaxis] - self.miu), axis=2)\n",
    "        n_l = np.argmin(dis, axis=1).reshape((-1, 1))\n",
    "        return n_l\n",
    "    \n",
    "    def train(self, X, verbose=False):\n",
    "        X = np.array(X)\n",
    "        l = np.random.randint(0,high=self.k,size=(X.shape[0],1))\n",
    "        n_l = None\n",
    "        while n_l is None or not np.array_equal(l,n_l):\n",
    "            cur_miu = []\n",
    "            if n_l is not None:\n",
    "                l = n_l\n",
    "            X_l = np.hstack((X,l))\n",
    "            for i in range(self.k):\n",
    "                cur_miu.append( \n",
    "                    np.mean(\n",
    "                        X_l[np.where(X_l[:,-1]==i),:-1],\n",
    "                        axis=1\n",
    "                    )\n",
    "                )\n",
    "            self.miu = np.vstack(cur_miu) \n",
    "            self.his_miu.append(self.miu)\n",
    "            n_l = self.calculate_labels(X)\n",
    "            if verbose: print(self.miu)\n",
    "                \n",
    "    def predict(self,X):\n",
    "        n_l = self.calculate_labels(X)\n",
    "        return n_l"
   ]
  },
  {
   "cell_type": "code",
   "execution_count": null,
   "id": "e8422709-223b-4f41-96f0-914a002c2b19",
   "metadata": {},
   "outputs": [],
   "source": [
    "kmeans=Kmeans(7)\n",
    "kmeans.train(X_reduce)\n",
    "prediction= kmeans.predict(X_reduce)"
   ]
  },
  {
   "cell_type": "code",
   "execution_count": null,
   "id": "9688b41f-cdaf-48c7-aae3-e19b85e754ff",
   "metadata": {},
   "outputs": [],
   "source": [
    "import numpy as np\n",
    "\n",
    "# Suponiendo que tienes las etiquetas de clúster en 'prediction'\n",
    "# y que 'X_reduce' es el conjunto de datos original reducido\n",
    "\n",
    "selected_faces = []\n",
    "\n",
    "# Recorre cada clúster\n",
    "for cluster_id in range(7):\n",
    "    cluster_indices = np.where(prediction == cluster_id)[0]\n",
    "    cluster_centroid = kmeans.miu[cluster_id]\n",
    "\n",
    "    # Calcula las distancias desde el centroide del clúster\n",
    "    distances_to_centroid = [np.linalg.norm(X_reduce[i] - cluster_centroid) for i in cluster_indices]\n",
    "\n",
    "    # Selecciona las 4 caras más cercanas\n",
    "    sorted_indices = np.argsort(distances_to_centroid)[:4]\n",
    "\n",
    "    # Agrega los índices de las caras seleccionadas al resultado\n",
    "    selected_faces.extend(cluster_indices[sorted_indices])\n",
    "\n",
    "# 'selected_faces' contendrá los índices de las 4 caras más cercanas al centroide de cada clúster"
   ]
  },
  {
   "cell_type": "code",
   "execution_count": null,
   "id": "f91920db-c508-48e4-90ac-60aa901e0813",
   "metadata": {},
   "outputs": [],
   "source": [
    "#Visualizar las caras\n",
    "plt.figure(figsize=(10, 10))\n",
    "for i, face_idx in enumerate(selected_faces):\n",
    "    plt.subplot(7, 4, i + 1)\n",
    "    plt.imshow(X[face_idx].reshape(128, 128), cmap='gray')  # Usar X en lugar de data\n",
    "    plt.title(f'Cluster {prediction[face_idx]}')\n",
    "    plt.axis('off')\n",
    "plt.tight_layout()\n",
    "plt.show()"
   ]
  },
  {
   "cell_type": "markdown",
   "id": "5beace9a-ace1-4285-8953-a8b9d9a33773",
   "metadata": {},
   "source": [
    "# Ejercicio 3"
   ]
  },
  {
   "cell_type": "code",
   "execution_count": null,
   "id": "6c0c2b9e-c3b2-4c54-bc7f-a0677ba5bfa7",
   "metadata": {},
   "outputs": [],
   "source": [
    "df = pd.read_csv(\"./data/Resultados_Saber_TyT_Gen_ricas.csv\")"
   ]
  },
  {
   "cell_type": "markdown",
   "id": "79ad4ee9-d1cb-4e0c-ac5f-a9caebe7fc6f",
   "metadata": {},
   "source": [
    "1. Descartar datos innecesarios"
   ]
  },
  {
   "cell_type": "code",
   "execution_count": null,
   "id": "78a64bba-00bf-46f9-8738-a802074640cf",
   "metadata": {},
   "outputs": [],
   "source": [
    "pd.set_option('display.max_rows', 500)\n",
    "pd.set_option('display.max_columns', 500)\n",
    "%matplotlib inline"
   ]
  },
  {
   "cell_type": "code",
   "execution_count": null,
   "id": "94b82e1c-5277-4d04-b7a0-c0191b4299aa",
   "metadata": {},
   "outputs": [],
   "source": [
    "df.describe(include=\"all\")"
   ]
  },
  {
   "cell_type": "code",
   "execution_count": null,
   "id": "8a66f6f4-1fd4-4506-af25-7a2232186a1e",
   "metadata": {},
   "outputs": [],
   "source": [
    "def delete_unnecesary_columns(df):\n",
    "    unnecessary_columns = [x for x in df if df[x].count() <30 or len(df[x].unique()) < 2 or \"DISC\" in x or \"COD\" in x]\n",
    "    unnecessary_columns.extend(['PERIODO','ESTU_TIPODOCUMENTO', 'ESTU_NACIONALIDAD','ESTU_GENERO', 'ESTU_TIPODOCUMENTOSB11', 'ESTU_EXTERIOR', 'ESTU_CONSECUTIVO', 'ESTU_ESTUDIANTE', 'ESTU_PAIS_RESIDE', 'ESTU_SNIES_PRGMACADEMICO', 'ESTU_PRGM_CODMUNICIPIO', 'ESTU_INST_CODMUNICIPIO','ESTU_PRIVADO_LIBERTAD', 'MOD_INGLES_DESEM', 'ESTU_CONSECUTIVO', 'PERCENTIL_GLOBAL', 'PERCENTIL_NBC', 'ESTU_ESTADOINVESTIGACION'])\n",
    "    df = df.drop(columns=unnecessary_columns, axis=1)\n",
    "    categorical = df.drop(columns=df._get_numeric_data().columns, axis= 1)\n",
    "    df = df.drop(columns=categorical)\n",
    "    non_significant_categorical = [x for x in categorical if categorical[x].count()-list(categorical[x].value_counts())[0] < 30]\n",
    "    categorical = categorical.drop(columns=non_significant_categorical, axis=1)\n",
    "    return pd.concat([df, categorical], axis=1)"
   ]
  },
  {
   "cell_type": "code",
   "execution_count": null,
   "id": "6253a76a-ff71-4039-ad0b-197ba0967623",
   "metadata": {},
   "outputs": [],
   "source": [
    "df =  delete_unnecesary_columns(df)"
   ]
  },
  {
   "cell_type": "code",
   "execution_count": null,
   "id": "485d0419-857f-4c29-94ec-585e8e3e5387",
   "metadata": {},
   "outputs": [],
   "source": [
    "df.shape[1]"
   ]
  },
  {
   "cell_type": "code",
   "execution_count": null,
   "id": "492a2b40-9b6b-4bdf-bfe0-83c3d3eb1c0a",
   "metadata": {},
   "outputs": [],
   "source": [
    "df.head(5)"
   ]
  },
  {
   "cell_type": "code",
   "execution_count": null,
   "id": "d41e92db-5b73-46d5-9f7b-741f35d7dcc6",
   "metadata": {},
   "outputs": [],
   "source": [
    "scatter_Plot = px.scatter(df, x=df['MOD_INGLES_PUNT'], y = df['ESTU_FECHANACIMIENTO'])\n",
    "scatter_Plot.show()"
   ]
  },
  {
   "cell_type": "code",
   "execution_count": null,
   "id": "28658391-5851-4e16-8f3e-dfdad02b9834",
   "metadata": {},
   "outputs": [],
   "source": [
    "def convert_date_to_age(df):\n",
    "    time = pd.Timestamp('now')\n",
    "    df['ESTU_EDAD']=(time - pd.to_datetime(df['ESTU_FECHANACIMIENTO'], errors=\"coerce\")).astype('<m8[Y]')\n",
    "    return df.drop('ESTU_FECHANACIMIENTO', axis=1)"
   ]
  },
  {
   "cell_type": "code",
   "execution_count": null,
   "id": "0d4640ff-91c9-4deb-a973-fad44d85ac01",
   "metadata": {},
   "outputs": [],
   "source": [
    "df['ESTU_FECHANACIMIENTO'] = pd.to_datetime(df['ESTU_FECHANACIMIENTO'], errors='coerce')\n",
    "fecha_minima = pd.Timestamp('1980-01-01')\n",
    "fecha_maxima = pd.Timestamp('2021-12-31')\n",
    "fecha_actual = date.today()\n",
    "df_filtrado = df[(df['ESTU_FECHANACIMIENTO'] >= fecha_minima) & (df['ESTU_FECHANACIMIENTO'] <= fecha_maxima)]\n",
    "df['ESTU_FECHANACIMIENTO'] = pd.to_datetime(df['ESTU_FECHANACIMIENTO'])\n",
    "df.fillna(df['ESTU_FECHANACIMIENTO'].mean(), inplace=True)\n",
    "año = df['ESTU_FECHANACIMIENTO'].dt.strftime('%Y').astype(int)\n",
    "print(fecha_actual)\n",
    "edad = fecha_actual.year - año\n",
    "edad.hist(bins=20)"
   ]
  },
  {
   "cell_type": "code",
   "execution_count": null,
   "id": "f9959673-afc9-4155-81e6-f7a86f9e7e86",
   "metadata": {},
   "outputs": [],
   "source": [
    "scatter_Plot = px.scatter(df, x=df['MOD_INGLES_PUNT'], y=df['ESTU_SEMESTRECURSA'])\n",
    "scatter_Plot.show()"
   ]
  },
  {
   "cell_type": "code",
   "execution_count": null,
   "id": "d0e4f7cc-d616-41ea-b48a-efb9d49fb256",
   "metadata": {},
   "outputs": [],
   "source": [
    "fig = px.box(df, x=df['MOD_INGLES_PUNT'], y=df['ESTU_SEMESTRECURSA'])\n",
    "fig.show()"
   ]
  },
  {
   "cell_type": "code",
   "execution_count": null,
   "id": "58f2726c-73c0-4205-96c4-37695f0d99aa",
   "metadata": {},
   "outputs": [],
   "source": [
    "scatter_Plot = px.scatter(df, x=df['MOD_INGLES_PUNT'], y=df['MOD_RAZONA_CUANTITAT_PUNT'])\n",
    "scatter_Plot.show()"
   ]
  },
  {
   "cell_type": "code",
   "execution_count": null,
   "id": "c880d515-90a2-4b03-94be-b9dc06bf7043",
   "metadata": {},
   "outputs": [],
   "source": [
    "scatter_Plot = px.scatter(df, x=df['MOD_INGLES_PUNT'], y=df['MOD_RAZONA_CUANTITATIVO_PNAL'])\n",
    "scatter_Plot.show()"
   ]
  },
  {
   "cell_type": "code",
   "execution_count": null,
   "id": "84ea21f2-5e96-4200-ba1b-c310315fdb80",
   "metadata": {},
   "outputs": [],
   "source": [
    "scatter_Plot = px.scatter(df, x=df['MOD_INGLES_PUNT'], y=df['MOD_RAZONA_CUANTITATIVO_PNBC'])\n",
    "scatter_Plot.show()"
   ]
  },
  {
   "cell_type": "code",
   "execution_count": null,
   "id": "47b45b29-4317-4857-92b5-7ffb25296eed",
   "metadata": {},
   "outputs": [],
   "source": [
    "scatter_Plot = px.scatter(df, x=df['MOD_INGLES_PUNT'], y=df['MOD_LECTURA_CRITICA_PUNT'])\n",
    "scatter_Plot.show()"
   ]
  },
  {
   "cell_type": "code",
   "execution_count": null,
   "id": "d4ba616e-2303-460c-8ac3-e851df0321cc",
   "metadata": {},
   "outputs": [],
   "source": [
    "scatter_Plot = px.scatter(df, x=df['MOD_INGLES_PUNT'], y=df['MOD_LECTURA_CRITICA_PNAL'])\n",
    "scatter_Plot.show()"
   ]
  },
  {
   "cell_type": "code",
   "execution_count": null,
   "id": "4298c1a2-4373-4b41-938b-69c6675183c5",
   "metadata": {},
   "outputs": [],
   "source": [
    "scatter_Plot = px.scatter(df, x=df['MOD_INGLES_PUNT'], y=df['MOD_LECTURA_CRITICA_PNBC'])\n",
    "scatter_Plot.show()"
   ]
  },
  {
   "cell_type": "code",
   "execution_count": null,
   "id": "855417ac-641b-4ca6-a5b9-50126a6c3801",
   "metadata": {},
   "outputs": [],
   "source": [
    "scatter_Plot = px.scatter(df, x=df['MOD_INGLES_PUNT'], y=df['MOD_COMPETEN_CIUDADA_PUNT'])\n",
    "scatter_Plot.show()"
   ]
  },
  {
   "cell_type": "code",
   "execution_count": null,
   "id": "4fa9d0b8-3b1d-49e0-baef-9cf8948a6240",
   "metadata": {},
   "outputs": [],
   "source": [
    "scatter_Plot = px.scatter(df, x=df['MOD_INGLES_PUNT'], y=df['MOD_COMPETEN_CIUDADA_PNAL'])\n",
    "scatter_Plot.show()"
   ]
  },
  {
   "cell_type": "code",
   "execution_count": null,
   "id": "bc3fd381-7292-49ad-8933-73bb8d18c79f",
   "metadata": {},
   "outputs": [],
   "source": [
    "scatter_Plot = px.scatter(df, x=df['MOD_INGLES_PUNT'], y=df['MOD_COMPETEN_CIUDADA_PNBC'])\n",
    "scatter_Plot.show()"
   ]
  },
  {
   "cell_type": "code",
   "execution_count": null,
   "id": "9448d354-3e08-42d6-adef-295acd9a1d4e",
   "metadata": {},
   "outputs": [],
   "source": [
    "scatter_Plot = px.scatter(df, x=df['MOD_INGLES_PUNT'], y=df['MOD_INGLES_PNAL'])\n",
    "scatter_Plot.show()"
   ]
  },
  {
   "cell_type": "code",
   "execution_count": null,
   "id": "0f5021af-3c0d-4479-9281-372a86fb1a29",
   "metadata": {},
   "outputs": [],
   "source": [
    "scatter_Plot = px.scatter(df, x=df['MOD_INGLES_PUNT'], y=df['MOD_INGLES_PNBC'])\n",
    "scatter_Plot.show()"
   ]
  },
  {
   "cell_type": "code",
   "execution_count": null,
   "id": "a8e48963-ec00-46f4-83ea-3ddb7cdbf995",
   "metadata": {},
   "outputs": [],
   "source": [
    "scatter_Plot = px.scatter(df, x=df['MOD_INGLES_PUNT'], y=df['MOD_COMUNI_ESCRITA_PUNT'])\n",
    "scatter_Plot.show()"
   ]
  },
  {
   "cell_type": "code",
   "execution_count": null,
   "id": "92a81867-a01a-49bf-a6e9-88d2bc820eec",
   "metadata": {},
   "outputs": [],
   "source": [
    "scatter_Plot = px.scatter(df, x=df['MOD_INGLES_PUNT'], y=df['MOD_COMUNI_ESCRITA_DESEM'])\n",
    "scatter_Plot.show()"
   ]
  },
  {
   "cell_type": "code",
   "execution_count": null,
   "id": "15056cd1-01a2-459f-9e5f-7d07ce4e7e77",
   "metadata": {},
   "outputs": [],
   "source": [
    "scatter_Plot = px.scatter(df, x=df['MOD_INGLES_PUNT'], y=df['MOD_COMUNI_ESCRITA_PNAL'])\n",
    "scatter_Plot.show()"
   ]
  },
  {
   "cell_type": "code",
   "execution_count": null,
   "id": "6589eaa5-4e7c-4198-94c3-377086b8f87a",
   "metadata": {},
   "outputs": [],
   "source": [
    "scatter_Plot = px.scatter(df, x=df['MOD_INGLES_PUNT'], y=df['MOD_COMUNI_ESCRITA_PNBC'])\n",
    "scatter_Plot.show()"
   ]
  },
  {
   "cell_type": "code",
   "execution_count": null,
   "id": "a1e80564-1e44-4035-a199-ae5896f9d40b",
   "metadata": {},
   "outputs": [],
   "source": [
    "scatter_Plot = px.scatter(df, x=df['MOD_INGLES_PUNT'], y=df['PUNT_GLOBAL'])\n",
    "scatter_Plot.show()"
   ]
  },
  {
   "cell_type": "code",
   "execution_count": null,
   "id": "80ee5bab-0972-4ff1-86ee-ebf98b67d2bd",
   "metadata": {},
   "outputs": [],
   "source": [
    "fig = px.box(df, x=df['MOD_INGLES_PUNT'], y=df['MOD_RAZONA_CUANTITAT_PUNT'])\n",
    "fig.show()"
   ]
  },
  {
   "cell_type": "code",
   "execution_count": null,
   "id": "0e2cc5b0-2cd0-491f-957e-7c233585c93e",
   "metadata": {},
   "outputs": [],
   "source": [
    "fig = px.box(df, x=df['MOD_INGLES_PUNT'], y=df['MOD_RAZONA_CUANTITATIVO_PNAL'])\n",
    "fig.show()"
   ]
  },
  {
   "cell_type": "code",
   "execution_count": null,
   "id": "dafccd35-c0c5-4af7-ad9c-420042fea0ed",
   "metadata": {},
   "outputs": [],
   "source": [
    "fig = px.box(df, x=df['MOD_INGLES_PUNT'], y=df['MOD_RAZONA_CUANTITATIVO_PNBC'])\n",
    "fig.show()"
   ]
  },
  {
   "cell_type": "code",
   "execution_count": null,
   "id": "39c9fea8-35dd-4755-9646-568312f8eba4",
   "metadata": {},
   "outputs": [],
   "source": [
    "fig = px.box(df, x=df['MOD_INGLES_PUNT'], y=df['MOD_LECTURA_CRITICA_PUNT'])\n",
    "fig.show()"
   ]
  },
  {
   "cell_type": "code",
   "execution_count": null,
   "id": "4d768157-0c8f-4169-a51a-184a6b43c083",
   "metadata": {},
   "outputs": [],
   "source": [
    "fig = px.box(df, x=df['MOD_INGLES_PUNT'], y=df['MOD_LECTURA_CRITICA_PNAL'])\n",
    "fig.show()"
   ]
  },
  {
   "cell_type": "code",
   "execution_count": null,
   "id": "856ee61e-83ff-421f-abcd-8429cae22d1f",
   "metadata": {},
   "outputs": [],
   "source": [
    "fig = px.box(df, x=df['MOD_INGLES_PUNT'], y=df['MOD_LECTURA_CRITICA_PNBC'])\n",
    "fig.show()"
   ]
  },
  {
   "cell_type": "code",
   "execution_count": null,
   "id": "2e437b1a-1d9b-44d5-b780-7c08c6c5c6cf",
   "metadata": {},
   "outputs": [],
   "source": [
    "fig = px.box(df, x=df['MOD_INGLES_PUNT'], y=df['MOD_COMPETEN_CIUDADA_PUNT'])\n",
    "fig.show()"
   ]
  },
  {
   "cell_type": "code",
   "execution_count": null,
   "id": "0ecc3cfe-78dc-4b13-b848-318daa384d1c",
   "metadata": {},
   "outputs": [],
   "source": [
    "fig = px.box(df, x=df['MOD_INGLES_PUNT'], y=df['MOD_COMPETEN_CIUDADA_PNAL'])\n",
    "fig.show()"
   ]
  },
  {
   "cell_type": "code",
   "execution_count": null,
   "id": "c749c0dd-2227-4671-8f09-467e3157031d",
   "metadata": {},
   "outputs": [],
   "source": [
    "fig = px.box(df, x=df['MOD_INGLES_PUNT'], y=df['MOD_COMPETEN_CIUDADA_PNBC'])\n",
    "fig.show()"
   ]
  },
  {
   "cell_type": "code",
   "execution_count": null,
   "id": "396bc7f4-94f6-44e6-be15-f333608f1567",
   "metadata": {},
   "outputs": [],
   "source": [
    "fig = px.box(df, x=df['MOD_INGLES_PUNT'], y=df['MOD_INGLES_PNAL'])\n",
    "fig.show()"
   ]
  },
  {
   "cell_type": "code",
   "execution_count": null,
   "id": "62fe8a67-66b5-4486-9c17-28d84c1d1a6d",
   "metadata": {},
   "outputs": [],
   "source": [
    "fig = px.box(df, x=df['MOD_INGLES_PUNT'], y=df['MOD_INGLES_PNBC'])\n",
    "fig.show()"
   ]
  },
  {
   "cell_type": "code",
   "execution_count": null,
   "id": "57edc49e-5d41-4ae7-9e5f-e039270652ab",
   "metadata": {},
   "outputs": [],
   "source": [
    "fig = px.box(df, x=df['MOD_INGLES_PUNT'], y=df['MOD_COMUNI_ESCRITA_PUNT'])\n",
    "fig.show()"
   ]
  },
  {
   "cell_type": "code",
   "execution_count": null,
   "id": "a6391373-e302-4a56-bc38-0e00948f0fa8",
   "metadata": {},
   "outputs": [],
   "source": [
    "fig = px.box(df, x=df['MOD_INGLES_PUNT'], y=df['MOD_COMUNI_ESCRITA_DESEM'])\n",
    "fig.show()"
   ]
  },
  {
   "cell_type": "code",
   "execution_count": null,
   "id": "e9ab90ca-7c03-4196-b007-8cd41aa6ebeb",
   "metadata": {},
   "outputs": [],
   "source": [
    "fig = px.box(df, x=df['MOD_INGLES_PUNT'], y=df['MOD_COMUNI_ESCRITA_PNAL'])\n",
    "fig.show()"
   ]
  },
  {
   "cell_type": "code",
   "execution_count": null,
   "id": "0d5e6fd4-9edc-4d00-ab07-3be701826e27",
   "metadata": {},
   "outputs": [],
   "source": [
    "fig = px.box(df, x=df['MOD_INGLES_PUNT'], y=df['MOD_COMUNI_ESCRITA_PNBC'])\n",
    "fig.show()"
   ]
  },
  {
   "cell_type": "code",
   "execution_count": null,
   "id": "4bc931d9-a4e8-4baa-923e-a23de1bb6655",
   "metadata": {},
   "outputs": [],
   "source": [
    "fig = px.box(df, x=df['MOD_INGLES_PUNT'], y=df['PUNT_GLOBAL'])\n",
    "fig.show()"
   ]
  },
  {
   "cell_type": "code",
   "execution_count": null,
   "id": "fda7dc23-da0a-460a-abc2-467eaaf3e423",
   "metadata": {
    "scrolled": true
   },
   "outputs": [],
   "source": [
    "correlation = df['MOD_INGLES_PUNT'].corr(df['ESTU_SEMESTRECURSA'])\n",
    "print(correlation)"
   ]
  },
  {
   "cell_type": "code",
   "execution_count": null,
   "id": "d70266a9-35b7-478d-bb68-1b6d43709a7e",
   "metadata": {},
   "outputs": [],
   "source": [
    "correlation = df['MOD_INGLES_PUNT'].corr(df['MOD_RAZONA_CUANTITAT_PUNT'])\n",
    "print(correlation)"
   ]
  },
  {
   "cell_type": "code",
   "execution_count": null,
   "id": "1e0f11c6-f80c-49bf-ad5a-bac47e6f9c9f",
   "metadata": {},
   "outputs": [],
   "source": [
    "correlation = df['MOD_INGLES_PUNT'].corr(df['MOD_RAZONA_CUANTITATIVO_PNAL'])\n",
    "print(correlation)"
   ]
  },
  {
   "cell_type": "code",
   "execution_count": null,
   "id": "4dfbca55-d5b8-416b-9da3-3dd42c849a3b",
   "metadata": {},
   "outputs": [],
   "source": [
    "correlation = df['MOD_INGLES_PUNT'].corr(df['MOD_RAZONA_CUANTITATIVO_PNBC'])\n",
    "print(correlation)"
   ]
  },
  {
   "cell_type": "code",
   "execution_count": null,
   "id": "02242427-3aec-44f0-ae4b-a05fe5569017",
   "metadata": {},
   "outputs": [],
   "source": [
    "correlation = df['MOD_INGLES_PUNT'].corr(df['MOD_LECTURA_CRITICA_PUNT'])\n",
    "print(correlation)"
   ]
  },
  {
   "cell_type": "code",
   "execution_count": null,
   "id": "04ef879b-b8c4-4aa1-b8da-49d199727341",
   "metadata": {},
   "outputs": [],
   "source": [
    "correlation = df['MOD_INGLES_PUNT'].corr(df['MOD_LECTURA_CRITICA_PNAL'])\n",
    "print(correlation)"
   ]
  },
  {
   "cell_type": "code",
   "execution_count": null,
   "id": "817dcf50-2b51-4606-af7c-29e0e4b5c72f",
   "metadata": {},
   "outputs": [],
   "source": [
    "correlation = df['MOD_INGLES_PUNT'].corr(df['MOD_LECTURA_CRITICA_PNBC'])\n",
    "print(correlation)"
   ]
  },
  {
   "cell_type": "code",
   "execution_count": null,
   "id": "40a3a77b-ea25-4ca1-bf08-c7147c2495d1",
   "metadata": {},
   "outputs": [],
   "source": [
    "correlation = df['MOD_INGLES_PUNT'].corr(df['MOD_COMPETEN_CIUDADA_PUNT'])\n",
    "print(correlation)"
   ]
  },
  {
   "cell_type": "code",
   "execution_count": null,
   "id": "55085047-cd79-4306-b661-d421112aec4d",
   "metadata": {},
   "outputs": [],
   "source": [
    "correlation = df['MOD_INGLES_PUNT'].corr(df['MOD_COMPETEN_CIUDADA_PNAL'])\n",
    "print(correlation)"
   ]
  },
  {
   "cell_type": "code",
   "execution_count": null,
   "id": "bd15df26-8d87-4c8e-af75-c1475e09ee8e",
   "metadata": {},
   "outputs": [],
   "source": [
    "correlation = df['MOD_INGLES_PUNT'].corr(df['MOD_COMPETEN_CIUDADA_PNAL'])\n",
    "print(correlation)"
   ]
  },
  {
   "cell_type": "code",
   "execution_count": null,
   "id": "6ee90ec9-70a7-4782-a208-6eac9891ef73",
   "metadata": {},
   "outputs": [],
   "source": [
    "correlation = df['MOD_INGLES_PUNT'].corr(df['MOD_COMPETEN_CIUDADA_PNBC'])\n",
    "print(correlation)"
   ]
  },
  {
   "cell_type": "code",
   "execution_count": null,
   "id": "fdd8859e-e0e1-4b55-a4f5-c52806b95de9",
   "metadata": {},
   "outputs": [],
   "source": [
    "correlation = df['MOD_INGLES_PUNT'].corr(df['MOD_INGLES_PNAL'])\n",
    "print(correlation)"
   ]
  },
  {
   "cell_type": "code",
   "execution_count": null,
   "id": "313893da-49d8-41ad-815d-444cbd8a3476",
   "metadata": {},
   "outputs": [],
   "source": [
    "correlation = df['MOD_INGLES_PUNT'].corr(df['MOD_INGLES_PNBC'])\n",
    "print(correlation)"
   ]
  },
  {
   "cell_type": "code",
   "execution_count": null,
   "id": "c5830996-00d1-4906-9360-fc582dd5d8df",
   "metadata": {},
   "outputs": [],
   "source": [
    "correlation = df['MOD_INGLES_PUNT'].corr(df['MOD_COMUNI_ESCRITA_PUNT'])\n",
    "print(correlation)"
   ]
  },
  {
   "cell_type": "code",
   "execution_count": null,
   "id": "4ec1d196-4c18-4fa6-9f8d-615cf0312c16",
   "metadata": {},
   "outputs": [],
   "source": [
    "correlation = df['MOD_INGLES_PUNT'].corr(df['MOD_COMUNI_ESCRITA_DESEM'])\n",
    "print(correlation)"
   ]
  },
  {
   "cell_type": "code",
   "execution_count": null,
   "id": "45265608-ce49-4a44-b3fe-4787d2d9a35d",
   "metadata": {},
   "outputs": [],
   "source": [
    "correlation = df['MOD_INGLES_PUNT'].corr(df['MOD_COMUNI_ESCRITA_PNAL'])\n",
    "print(correlation)"
   ]
  },
  {
   "cell_type": "code",
   "execution_count": null,
   "id": "16c3d1b4-0e53-40a3-bcaa-5987877e952d",
   "metadata": {},
   "outputs": [],
   "source": [
    "correlation = df['MOD_INGLES_PUNT'].corr(df['MOD_COMUNI_ESCRITA_PNBC'])\n",
    "print(correlation)"
   ]
  },
  {
   "cell_type": "code",
   "execution_count": null,
   "id": "e94aa115-650f-4ed1-abab-792d662e5c37",
   "metadata": {},
   "outputs": [],
   "source": [
    "correlation = df['MOD_INGLES_PUNT'].corr(df['PUNT_GLOBAL'])\n",
    "print(correlation)"
   ]
  },
  {
   "cell_type": "code",
   "execution_count": null,
   "id": "daad8f9a-89cc-4374-802f-2da1b3a43541",
   "metadata": {},
   "outputs": [],
   "source": [
    "df['ESTU_SEMESTRECURSA'].hist(bins=20)"
   ]
  },
  {
   "cell_type": "code",
   "execution_count": null,
   "id": "af2c78e5-98f0-4cad-91e9-8d4dfd9e0704",
   "metadata": {},
   "outputs": [],
   "source": [
    "df['MOD_RAZONA_CUANTITAT_PUNT'].hist(bins=20)"
   ]
  },
  {
   "cell_type": "code",
   "execution_count": null,
   "id": "516a87cc-f0fd-491c-bc05-698ea52d8779",
   "metadata": {},
   "outputs": [],
   "source": [
    "df['MOD_RAZONA_CUANTITATIVO_PNAL'].hist(bins=20)"
   ]
  },
  {
   "cell_type": "code",
   "execution_count": null,
   "id": "874d6f2d-4848-4439-962e-31eca965e60a",
   "metadata": {},
   "outputs": [],
   "source": [
    "df['MOD_RAZONA_CUANTITATIVO_PNBC'].hist(bins=20)"
   ]
  },
  {
   "cell_type": "code",
   "execution_count": null,
   "id": "c1c958a2-6bf8-4319-a390-bcc3fc6fcaf2",
   "metadata": {},
   "outputs": [],
   "source": [
    "df['MOD_LECTURA_CRITICA_PUNT'].hist(bins=20)"
   ]
  },
  {
   "cell_type": "code",
   "execution_count": null,
   "id": "82fd1d26-6eb2-411b-84c8-dd7115b2acd7",
   "metadata": {},
   "outputs": [],
   "source": [
    "df['MOD_LECTURA_CRITICA_PNAL'].hist(bins=20)"
   ]
  },
  {
   "cell_type": "code",
   "execution_count": null,
   "id": "d87c453e-a70c-4c80-8159-a4e26ab9f286",
   "metadata": {},
   "outputs": [],
   "source": [
    "df['MOD_LECTURA_CRITICA_PNBC'].hist(bins=20)"
   ]
  },
  {
   "cell_type": "code",
   "execution_count": null,
   "id": "587105a5-16ec-4a48-ac3f-bdd33defebbc",
   "metadata": {},
   "outputs": [],
   "source": [
    "df['MOD_COMPETEN_CIUDADA_PUNT'].hist(bins=20)"
   ]
  },
  {
   "cell_type": "code",
   "execution_count": null,
   "id": "4525adaf-3fcc-4d51-8ec3-bc0d0c60c97a",
   "metadata": {},
   "outputs": [],
   "source": [
    "df['MOD_COMPETEN_CIUDADA_PNAL'].hist(bins=20)"
   ]
  },
  {
   "cell_type": "code",
   "execution_count": null,
   "id": "e540a05d-4021-45aa-afae-d69df15609ea",
   "metadata": {},
   "outputs": [],
   "source": [
    "df['MOD_COMPETEN_CIUDADA_PNBC'].hist(bins=20)"
   ]
  },
  {
   "cell_type": "code",
   "execution_count": null,
   "id": "60b44406-96be-4fed-8110-6197e84f50ae",
   "metadata": {},
   "outputs": [],
   "source": [
    "df['MOD_INGLES_PNAL'].hist(bins=20)"
   ]
  },
  {
   "cell_type": "code",
   "execution_count": null,
   "id": "9304356e-ab22-408d-83a5-1cd3e97ae72c",
   "metadata": {},
   "outputs": [],
   "source": [
    "df['MOD_INGLES_PNBC'].hist(bins=20)"
   ]
  },
  {
   "cell_type": "code",
   "execution_count": null,
   "id": "ec77a15f-9380-4269-a5de-75a9e9e8fe4a",
   "metadata": {},
   "outputs": [],
   "source": [
    "df['MOD_COMUNI_ESCRITA_PUNT'].hist(bins=20)"
   ]
  },
  {
   "cell_type": "code",
   "execution_count": null,
   "id": "0dbee977-8de8-4576-8cc4-12e8153500bb",
   "metadata": {},
   "outputs": [],
   "source": [
    "df['MOD_COMUNI_ESCRITA_PNAL'].hist(bins=20)"
   ]
  },
  {
   "cell_type": "code",
   "execution_count": null,
   "id": "6c6915f6-ecea-4a31-a5cb-e2af9653eecd",
   "metadata": {},
   "outputs": [],
   "source": [
    "df['MOD_COMUNI_ESCRITA_DESEM'].hist(bins=20)"
   ]
  },
  {
   "cell_type": "code",
   "execution_count": null,
   "id": "ec2d1f41-e340-44b0-a0fb-40a923ca1c5a",
   "metadata": {},
   "outputs": [],
   "source": [
    "df['MOD_COMUNI_ESCRITA_PNBC'].hist(bins=20)"
   ]
  },
  {
   "cell_type": "code",
   "execution_count": null,
   "id": "95e7e173-250f-44cd-a83a-db7d6f6fb6d5",
   "metadata": {},
   "outputs": [],
   "source": [
    "df['PUNT_GLOBAL'].hist(bins=20)"
   ]
  },
  {
   "cell_type": "code",
   "execution_count": null,
   "id": "9e76c7c6-5b28-4810-bfc8-eeb02b2870b6",
   "metadata": {},
   "outputs": [],
   "source": [
    "def fill_nans_with_mean(df):\n",
    "    numerical = df._get_numeric_data().columns\n",
    "    for x in df:\n",
    "        if x in numerical:\n",
    "            mean = df[x].mean()\n",
    "            df[x] = df[x].fillna(mean)\n",
    "    return df"
   ]
  },
  {
   "cell_type": "code",
   "execution_count": null,
   "id": "3b89ff20-3279-41e2-afc1-abb6271a8f0e",
   "metadata": {},
   "outputs": [],
   "source": [
    "df['ESTU_FECHANACIMIENTO'] = pd.to_datetime(df['ESTU_FECHANACIMIENTO'], errors='coerce')\n",
    "fecha_minima = pd.Timestamp('1980-01-01')\n",
    "fecha_maxima = pd.Timestamp('2021-12-31')\n",
    "fecha_actual = date.today()\n",
    "df_filtrado = df[(df['ESTU_FECHANACIMIENTO'] >= fecha_minima) & (df['ESTU_FECHANACIMIENTO'] <= fecha_maxima)]\n",
    "df['ESTU_FECHANACIMIENTO'] = pd.to_datetime(df['ESTU_FECHANACIMIENTO'])\n",
    "df.fillna(df['ESTU_FECHANACIMIENTO'].mean(), inplace=True)\n",
    "año = df['ESTU_FECHANACIMIENTO'].dt.strftime('%Y').astype(int)\n",
    "edad = fecha_actual.year - año\n",
    "edad_columna = pd.Series(edad, name='ESTU_EDAD')\n",
    "df = pd.concat([df, edad_columna], axis=1)\n",
    "print(edad_columna)"
   ]
  },
  {
   "cell_type": "code",
   "execution_count": null,
   "id": "0fe21880-2850-47d7-a546-e7e14c52c240",
   "metadata": {},
   "outputs": [],
   "source": [
    "dummies_pago_matriculo_beca = pd.get_dummies(df['ESTU_PAGOMATRICULABECA'],dummy_na=True,dtype=float)\n",
    "df = pd.concat([df, dummies_pago_matriculo_beca], axis=1)\n",
    "print(dummies_pago_matriculo_beca)"
   ]
  },
  {
   "cell_type": "code",
   "execution_count": null,
   "id": "d15d745e-9655-47d9-857c-41b1338ecef6",
   "metadata": {},
   "outputs": [],
   "source": [
    "dummies_metodo_estudio = pd.get_dummies(df['ESTU_COMOCAPACITOEXAMENSB11'],dummy_na=True,dtype=float,prefix='ESTU_COMOCAPACITOEXAMENSB11')\n",
    "df = pd.concat([df, dummies_metodo_estudio], axis=1)\n",
    "print(dummies_metodo_estudio)"
   ]
  },
  {
   "cell_type": "code",
   "execution_count": null,
   "id": "cd140708-8b48-4e37-aa14-b5720bfaf5cc",
   "metadata": {},
   "outputs": [],
   "source": [
    "dummies_intert = pd.get_dummies(df['FAMI_TIENEINTERNET'],dummy_na=True,dtype=float,prefix='FAMI_TIENEINTERNET')\n",
    "df = pd.concat([df, dummies_intert], axis=1)\n",
    "print(dummies_intert)"
   ]
  },
  {
   "cell_type": "code",
   "execution_count": null,
   "id": "4a39c4f0-6f8c-4f43-b8c4-6d2366086db0",
   "metadata": {},
   "outputs": [],
   "source": [
    "dummies_computador = pd.get_dummies(df['FAMI_TIENECOMPUTADOR'],dummy_na=True,dtype=float,prefix='FAMI_TIENECOMPUTADOR')\n",
    "df = pd.concat([df, dummies_computador], axis=1)\n",
    "print(dummies_computador)"
   ]
  },
  {
   "cell_type": "code",
   "execution_count": null,
   "id": "0cae578f-5be5-4fc7-be4c-f35e92f3fb1a",
   "metadata": {},
   "outputs": [],
   "source": [
    "dummies_consola_video_juegos = pd.get_dummies(df['FAMI_TIENECONSOLAVIDEOJUEGOS'],dummy_na=True,dtype=float,prefix='FAMI_TIENECONSOLAVIDEOJUEGOS')\n",
    "df = pd.concat([df, dummies_consola_video_juegos], axis=1)\n",
    "print(dummies_consola_video_juegos)"
   ]
  },
  {
   "cell_type": "code",
   "execution_count": null,
   "id": "d262968f-1465-41f4-b9cc-8e5d498842eb",
   "metadata": {},
   "outputs": [],
   "source": [
    "dummies_estudio_padre = pd.get_dummies(df['FAMI_EDUCACIONPADRE'],dummy_na=True,dtype=float,prefix='FAMI_EDUCACIONPADRE')\n",
    "df = pd.concat([df, dummies_estudio_padre], axis=1)\n",
    "print(dummies_estudio_padre)"
   ]
  },
  {
   "cell_type": "code",
   "execution_count": null,
   "id": "2ce1694c-8936-4658-8c02-0ec6a8076f29",
   "metadata": {},
   "outputs": [],
   "source": [
    "dummies_estudio_madre = pd.get_dummies(df['FAMI_EDUCACIONMADRE'],dummy_na=True,dtype=float,prefix='FAMI_EDUCACIONMADRE')\n",
    "df = pd.concat([df, dummies_estudio_madre], axis=1)\n",
    "print(dummies_estudio_madre)"
   ]
  },
  {
   "cell_type": "code",
   "execution_count": null,
   "id": "c037aba0-28fa-4a07-83b2-315319b1d651",
   "metadata": {},
   "outputs": [],
   "source": [
    "dummies_trabajo_padre = pd.get_dummies(df['FAMI_TRABAJOLABORPADRE'],dummy_na=True,dtype=float,prefix='FAMI_TRABAJOLABORPADRE')\n",
    "df = pd.concat([df, dummies_trabajo_padre], axis=1)\n",
    "print(dummies_trabajo_padre)"
   ]
  },
  {
   "cell_type": "code",
   "execution_count": null,
   "id": "ff66f5a3-2dd1-4003-8638-35b20f467fb9",
   "metadata": {},
   "outputs": [],
   "source": [
    "dummies_trabajo_madre = pd.get_dummies(df['FAMI_TRABAJOLABORMADRE'],dummy_na=True,dtype=float,prefix='FAMI_TRABAJOLABORMADRE')\n",
    "df = pd.concat([df, dummies_trabajo_madre], axis=1)\n",
    "print(dummies_trabajo_madre)"
   ]
  },
  {
   "cell_type": "code",
   "execution_count": null,
   "id": "050cb13e-2b67-46df-9e05-54f7eaa88c1a",
   "metadata": {},
   "outputs": [],
   "source": [
    "def return_value(index, categories):\n",
    "    for cat in categories:\n",
    "        if cat[0] == index:\n",
    "            return cat[1]"
   ]
  },
  {
   "cell_type": "code",
   "execution_count": null,
   "id": "5af401e6-b3a4-4048-aa85-854ed81080e2",
   "metadata": {},
   "outputs": [],
   "source": [
    "def category(df, cols):\n",
    "    indexes = df[[cols,'MOD_INGLES_PUNT']].groupby(cols).agg(['count', 'mean']).index\n",
    "    avg = df[[cols,'MOD_INGLES_PUNT']].groupby(cols).agg(['count', 'mean']).values[:,1]\n",
    "    categories = pd.qcut(avg, 5, labels=['Baja', 'Media_baja', 'Media', 'Media_alta', 'Alta'])\n",
    "    category = list(zip(indexes, categories))\n",
    "    df[cols+'_CATEGORY'] = df[cols].apply(lambda x: return_value(x, category))\n",
    "    return df"
   ]
  },
  {
   "cell_type": "code",
   "execution_count": null,
   "id": "6d41c8ef-9783-45b0-afd1-db4089892a85",
   "metadata": {},
   "outputs": [],
   "source": [
    "def calcular_regresion_mse_mape(dataframe, porcentaje_entrenamiento=0.8):\n",
    "    df = dataframe.copy()\n",
    "    df.fillna(df['MOD_INGLES_PUNT'].mean(), inplace=True)\n",
    "    \n",
    "    y = df['MOD_INGLES_PUNT']\n",
    "    X = df[['ESTU_EDAD', 'Casado', 'Unión libre','ESTU_PAGO_MATRICULA_CREDITO_Si',\n",
    "        'ESTU_PAGOMATRICULAPADRES_Si','FAMI_EDUCACIONPADRE_Educación profesional completa',\n",
    "        'FAMI_EDUCACIONPADRE_Educación profesional incompleta', 'FAMI_EDUCACIONPADRE_Ninguno','FAMI_EDUCACIONPADRE_Postgrado', \n",
    "        'FAMI_EDUCACIONPADRE_Secundaria (Bachillerato) completa', 'FAMI_EDUCACIONPADRE_Secundaria (Bachillerato) incompleta',\n",
    "        'FAMI_EDUCACIONPADRE_Técnica o tecnológica completa', 'FAMI_EDUCACIONPADRE_Técnica o tecnológica incompleta', 'FAMI_EDUCACIONMADRE_Educación profesional completa',\n",
    "        'FAMI_EDUCACIONMADRE_Educación profesional incompleta', 'FAMI_EDUCACIONMADRE_Ninguno', 'FAMI_EDUCACIONMADRE_No Aplica',\n",
    "        'FAMI_EDUCACIONMADRE_No sabe', 'FAMI_EDUCACIONMADRE_Postgrado', 'FAMI_EDUCACIONMADRE_Primaria completa', 'FAMI_EDUCACIONMADRE_Primaria incompleta',\n",
    "        'FAMI_EDUCACIONMADRE_Secundaria (Bachillerato) completa', 'FAMI_EDUCACIONMADRE_Secundaria (Bachillerato) incompleta',\n",
    "        'FAMI_EDUCACIONMADRE_Técnica o tecnológica completa', 'FAMI_EDUCACIONMADRE_Técnica o tecnológica incompleta',\n",
    "        'FAMI_TRABAJOLABORPADRE_Es agricultor, pesquero o jornalero', 'FAMI_TRABAJOLABORPADRE_Es dueño de un negocio grande, tiene un cargo de nivel directivo o gerencial',\n",
    "        'FAMI_TRABAJOLABORPADRE_Es vendedor o trabaja en atención al público', 'FAMI_TRABAJOLABORPADRE_No aplica','FAMI_TIENEINTERNET_No',\n",
    "        'FAMI_TIENEINTERNET_Si','MOD_RAZONA_CUANTITAT_PUNT','MOD_RAZONA_CUANTITATIVO_PNAL','MOD_RAZONA_CUANTITATIVO_PNBC','MOD_LECTURA_CRITICA_PUNT',\n",
    "        'MOD_COMPETEN_CIUDADA_PUNT', 'MOD_COMPETEN_CIUDADA_PNBC','MOD_COMUNI_ESCRITA_PUNT','MOD_COMUNI_ESCRITA_DESEM']]\n",
    "    \n",
    "    X_train, X_test, y_train, y_test = train_test_split(X, y, test_size=1-porcentaje_entrenamiento, random_state=42)\n",
    "    X_train = sm.add_constant(X_train)\n",
    "    modelo = sm.OLS(y_train, X_train).fit()\n",
    "    X_test = sm.add_constant(X_test)\n",
    "    y_pred = modelo.predict(X_test)\n",
    "    \n",
    "    mse = mean_squared_error(y_test, y_pred)\n",
    "    mape = mean_absolute_error(y_test, y_pred) / np.mean(y_test) * 100 \n",
    "    return modelo.summary(), mse, mape"
   ]
  },
  {
   "cell_type": "code",
   "execution_count": null,
   "id": "e91e7eb5-9cc8-4208-a814-2d9444d0c09c",
   "metadata": {},
   "outputs": [],
   "source": [
    "resumen, mse, mape = calcular_regresion_mse_mape(df, porcentaje_entrenamiento=0.8)\n",
    "print(resumen)\n",
    "print(f\"MSE: {mse}\")\n",
    "print(f\"MAPE: {mape}\")"
   ]
  },
  {
   "cell_type": "code",
   "execution_count": null,
   "id": "1300842a-a83a-4eac-b6fd-410ed0fe6674",
   "metadata": {},
   "outputs": [],
   "source": [
    "resumen, mse, mape = calcular_regresion_mse_mape(df, porcentaje_entrenamiento=0.2)\n",
    "print(resumen)\n",
    "print(f\"MSE: {mse}\")\n",
    "print(f\"MAPE: {mape}\")"
   ]
  },
  {
   "cell_type": "code",
   "execution_count": null,
   "id": "74140d95-7498-40a9-9ab3-6a187b3c6ae3",
   "metadata": {},
   "outputs": [],
   "source": []
  }
 ],
 "metadata": {
  "kernelspec": {
   "display_name": "Python 3 (ipykernel)",
   "language": "python",
   "name": "python3"
  },
  "language_info": {
   "codemirror_mode": {
    "name": "ipython",
    "version": 3
   },
   "file_extension": ".py",
   "mimetype": "text/x-python",
   "name": "python",
   "nbconvert_exporter": "python",
   "pygments_lexer": "ipython3",
   "version": "3.11.5"
  }
 },
 "nbformat": 4,
 "nbformat_minor": 5
}
